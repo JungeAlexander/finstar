{
 "cells": [
  {
   "cell_type": "code",
   "execution_count": null,
   "id": "8d5e987e-9ed1-4298-9789-1ead52cf9735",
   "metadata": {},
   "outputs": [],
   "source": [
    "import altair as alt\n",
    "import numpy as np\n",
    "import pandas as pd\n",
    "import yfinance as yf"
   ]
  },
  {
   "cell_type": "code",
   "execution_count": null,
   "id": "fab374ac-c7c0-4bbd-8fe2-d92dfcb6aeda",
   "metadata": {},
   "outputs": [],
   "source": [
    "tickers_of_interest = [\"AAPL\", \"AMZN\", \"GOOGL\", \"MSFT\", \"TSLA\"]"
   ]
  },
  {
   "cell_type": "code",
   "execution_count": null,
   "id": "18d6ee8d-4c85-4277-9c83-4b3392935afa",
   "metadata": {},
   "outputs": [],
   "source": [
    "tickers = yf.Tickers(tickers_of_interest)"
   ]
  },
  {
   "cell_type": "code",
   "execution_count": null,
   "id": "f67f9a99-c8a3-4178-bd53-d9e709b67874",
   "metadata": {},
   "outputs": [],
   "source": [
    "hist = tickers.history(period=\"5y\")"
   ]
  },
  {
   "cell_type": "code",
   "execution_count": null,
   "id": "6f22fc66-1ff9-478e-aba2-7661c444bc88",
   "metadata": {},
   "outputs": [],
   "source": [
    "hist.tail()"
   ]
  },
  {
   "cell_type": "code",
   "execution_count": null,
   "id": "a8cf27e8-f1f7-428b-b150-3f19e2da6386",
   "metadata": {},
   "outputs": [],
   "source": [
    "hist_df = pd.DataFrame(hist.loc[:, (\"Close\", \"AAPL\")])\n",
    "hist_df.columns = [\"Close\"]\n",
    "\n",
    "hist_df = hist_df.reset_index()"
   ]
  },
  {
   "cell_type": "code",
   "execution_count": null,
   "id": "7659c2a3-5977-4f57-ba04-5914914de260",
   "metadata": {},
   "outputs": [],
   "source": [
    "short_sma = 1\n",
    "short_sma_column = f\"SMA_{short_sma}\"\n",
    "long_sma = 200\n",
    "long_sma_column = f\"SMA_{long_sma}\"\n",
    "hist_df[short_sma_column] = hist_df[\"Close\"].rolling(short_sma).mean()\n",
    "hist_df[long_sma_column] = hist_df[\"Close\"].rolling(long_sma).mean()\n",
    "hist_df[\"Position\"] = np.where(hist_df[short_sma_column] > hist_df[long_sma_column], 1, -1)\n",
    "hist_df.dropna(inplace=True)\n",
    "\n",
    "hist_df[\"Returns\"] = np.log(hist_df[\"Close\"]/hist_df[\"Close\"].shift(1))\n",
    "hist_df[\"Strategy\"] = hist_df[\"Position\"].shift(1) * hist_df[\"Returns\"]\n",
    "hist_df[\"Returns_Sum\"] = hist_df[\"Returns\"].cumsum().apply(np.exp)\n",
    "hist_df[\"Strategy_Sum\"] = hist_df[\"Strategy\"].cumsum().apply(np.exp)"
   ]
  },
  {
   "cell_type": "code",
   "execution_count": null,
   "id": "7072ed81-03ae-46cb-a5f6-1c03a1b47ec9",
   "metadata": {},
   "outputs": [],
   "source": [
    "hist_df.loc[:, [\"Returns\", \"Strategy\"]].sum().apply(np.exp)"
   ]
  },
  {
   "cell_type": "code",
   "execution_count": null,
   "id": "355d76a1-898f-452b-94f6-53f2e9d91d7b",
   "metadata": {},
   "outputs": [],
   "source": [
    "hist_df"
   ]
  },
  {
   "cell_type": "code",
   "execution_count": null,
   "id": "f4731e81-6e96-444a-882c-1576eefd7436",
   "metadata": {},
   "outputs": [],
   "source": [
    "plot_df = hist_df.loc[:, [\"Date\", \"Close\", short_sma_column, long_sma_column]].melt(\"Date\", var_name=\"Type\", value_name=\"Price\")\n",
    "\n",
    "base = alt.Chart(plot_df).mark_line().encode(\n",
    "    x=\"Date:T\",\n",
    "    y=\"Price:Q\",\n",
    "    color=\"Type:N\"\n",
    ")\n",
    "\n",
    "base"
   ]
  },
  {
   "cell_type": "code",
   "execution_count": null,
   "id": "79906801-538d-4b23-bb90-28e830b6fb59",
   "metadata": {},
   "outputs": [],
   "source": [
    "plot_df = hist_df.loc[:, [\"Date\", \"Position\", \"Returns_Sum\", \"Strategy_Sum\"]].melt(\"Date\", var_name=\"Type\", value_name=\"Returns\")\n",
    "\n",
    "base = alt.Chart(plot_df).mark_line().encode(\n",
    "    x=\"Date:T\",\n",
    "    y=\"Returns:Q\",\n",
    "    color=\"Type:N\"\n",
    ")\n",
    "\n",
    "base"
   ]
  },
  {
   "cell_type": "markdown",
   "id": "51244733-4589-43bd-a780-8efe827b8a42",
   "metadata": {},
   "source": [
    "## S&P 500 components "
   ]
  },
  {
   "cell_type": "code",
   "execution_count": null,
   "id": "81c5f505-ae53-4248-b6ab-dff2e9043afc",
   "metadata": {},
   "outputs": [],
   "source": [
    "sp500_df = pd.read_html(\"https://en.wikipedia.org/wiki/List_of_S%26P_500_companies\")[0]"
   ]
  },
  {
   "cell_type": "code",
   "execution_count": null,
   "id": "ea9ba669-c41b-4ac2-bbda-d276a4c6ecbd",
   "metadata": {},
   "outputs": [],
   "source": [
    "assert len(sp500_df) == 505"
   ]
  },
  {
   "cell_type": "code",
   "execution_count": null,
   "id": "41b21338-f542-43e2-a06c-0bcb1fa85a73",
   "metadata": {},
   "outputs": [],
   "source": [
    "sp500_tickers = yf.Tickers(list(sp500_df[\"Symbol\"]))"
   ]
  },
  {
   "cell_type": "code",
   "execution_count": null,
   "id": "46fca46f-0540-4d96-a27d-406594c632af",
   "metadata": {},
   "outputs": [],
   "source": [
    "sp500_hist = sp500_tickers.history(period=\"1y\")"
   ]
  }
 ],
 "metadata": {
  "kernelspec": {
   "display_name": "Python 3",
   "language": "python",
   "name": "python3"
  },
  "language_info": {
   "codemirror_mode": {
    "name": "ipython",
    "version": 3
   },
   "file_extension": ".py",
   "mimetype": "text/x-python",
   "name": "python",
   "nbconvert_exporter": "python",
   "pygments_lexer": "ipython3",
   "version": "3.9.4"
  }
 },
 "nbformat": 4,
 "nbformat_minor": 5
}
