{
 "cells": [
  {
   "cell_type": "code",
   "execution_count": null,
   "id": "8d5e987e-9ed1-4298-9789-1ead52cf9735",
   "metadata": {},
   "outputs": [],
   "source": [
    "import altair as alt\n",
    "import pandas as pd\n",
    "import yfinance as yf"
   ]
  },
  {
   "cell_type": "code",
   "execution_count": null,
   "id": "fab374ac-c7c0-4bbd-8fe2-d92dfcb6aeda",
   "metadata": {},
   "outputs": [],
   "source": [
    "tickers_of_interest = [\"AAPL\", \"AMZN\", \"GOOGL\", \"MSFT\", \"TSLA\"]"
   ]
  },
  {
   "cell_type": "code",
   "execution_count": null,
   "id": "18d6ee8d-4c85-4277-9c83-4b3392935afa",
   "metadata": {},
   "outputs": [],
   "source": [
    "tickers = yf.Tickers(tickers_of_interest)"
   ]
  },
  {
   "cell_type": "code",
   "execution_count": null,
   "id": "f67f9a99-c8a3-4178-bd53-d9e709b67874",
   "metadata": {},
   "outputs": [],
   "source": [
    "hist = tickers.history()"
   ]
  },
  {
   "cell_type": "code",
   "execution_count": null,
   "id": "6f22fc66-1ff9-478e-aba2-7661c444bc88",
   "metadata": {},
   "outputs": [],
   "source": [
    "hist.tail()"
   ]
  },
  {
   "cell_type": "code",
   "execution_count": null,
   "id": "edb51305-c569-4332-ac31-f95894ba7d29",
   "metadata": {},
   "outputs": [],
   "source": [
    "hist_df = hist[\"Close\"]"
   ]
  },
  {
   "cell_type": "code",
   "execution_count": null,
   "id": "323df9b8-5252-4606-ba78-56d5a1786e76",
   "metadata": {},
   "outputs": [],
   "source": [
    "hist_df = hist_df.reset_index()"
   ]
  },
  {
   "cell_type": "code",
   "execution_count": null,
   "id": "10aa2635-8c6d-4a04-b43a-d76c185750d5",
   "metadata": {},
   "outputs": [],
   "source": [
    "base = alt.Chart(hist_df).mark_line().encode(\n",
    "    x=\"Date:T\",\n",
    "    y=\"AAPL:Q\",\n",
    ")"
   ]
  },
  {
   "cell_type": "code",
   "execution_count": null,
   "id": "70f83bee-ac49-4d32-a5d3-e47953e5388b",
   "metadata": {},
   "outputs": [],
   "source": [
    "base"
   ]
  }
 ],
 "metadata": {
  "kernelspec": {
   "display_name": "Python 3",
   "language": "python",
   "name": "python3"
  },
  "language_info": {
   "codemirror_mode": {
    "name": "ipython",
    "version": 3
   },
   "file_extension": ".py",
   "mimetype": "text/x-python",
   "name": "python",
   "nbconvert_exporter": "python",
   "pygments_lexer": "ipython3",
   "version": "3.9.4"
  }
 },
 "nbformat": 4,
 "nbformat_minor": 5
}
