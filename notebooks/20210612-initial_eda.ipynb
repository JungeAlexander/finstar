{
 "cells": [
  {
   "cell_type": "markdown",
   "id": "dd96c268-ff0b-433e-a0e3-338a46941cb0",
   "metadata": {},
   "source": [
    "# Initial data exploration and visualization"
   ]
  },
  {
   "cell_type": "code",
   "execution_count": null,
   "id": "8d5e987e-9ed1-4298-9789-1ead52cf9735",
   "metadata": {},
   "outputs": [],
   "source": [
    "from datetime import date, timedelta\n",
    "\n",
    "import altair as alt\n",
    "import numpy as np\n",
    "import pandas as pd\n",
    "import pandas_market_calendars as mcal\n",
    "import yfinance as yf\n",
    "\n",
    "import finstar.evaluation.returns as returns\n",
    "import finstar.strategies.sma as sma"
   ]
  },
  {
   "cell_type": "code",
   "execution_count": null,
   "id": "38f97ebd-db9b-415c-a3b9-8314a9511d25",
   "metadata": {},
   "outputs": [],
   "source": [
    "# determine NYSE market days\n",
    "end = date.today()\n",
    "start = date(year=end.year - 10, month=end.month, day=end.day)\n",
    "\n",
    "nyse = mcal.get_calendar('NYSE')\n",
    "nyse_days= nyse.schedule(start_date=start, end_date=end).index"
   ]
  },
  {
   "cell_type": "code",
   "execution_count": null,
   "id": "b6442d87-8acd-4da6-90e2-2ac7f2717af1",
   "metadata": {},
   "outputs": [],
   "source": [
    "days_df = pd.DataFrame(index=nyse_days)\n",
    "days_df.index.set_names(\"Date\", inplace=True)"
   ]
  },
  {
   "cell_type": "code",
   "execution_count": null,
   "id": "dc8ec9ec-aac0-4ec9-9a9e-c38559aa6d4a",
   "metadata": {},
   "outputs": [],
   "source": [
    "ticker_df = pd.read_parquet(\"../data/raw/20210620-SP500-max/20210620/AAPL.snappy.parquet\")\n",
    "ticker_df"
   ]
  },
  {
   "cell_type": "code",
   "execution_count": null,
   "id": "bc0966bf-e98b-40c8-9baf-8497f5059c0d",
   "metadata": {},
   "outputs": [],
   "source": [
    "joined = days_df.join(ticker_df.loc[:, \"Close\"], on=\"Date\", how=\"left\")"
   ]
  },
  {
   "cell_type": "code",
   "execution_count": null,
   "id": "e0b36d35-4d51-4f4e-8a2c-fe751bb52a36",
   "metadata": {},
   "outputs": [],
   "source": [
    "joined"
   ]
  },
  {
   "cell_type": "code",
   "execution_count": null,
   "id": "bc61dd1b-38e9-47bf-8cdd-33c062450acc",
   "metadata": {},
   "outputs": [],
   "source": [
    "joined.isna"
   ]
  },
  {
   "cell_type": "code",
   "execution_count": null,
   "id": "a8cf27e8-f1f7-428b-b150-3f19e2da6386",
   "metadata": {},
   "outputs": [],
   "source": [
    "hist_df = pd.DataFrame(joined.loc[:, \"Close\"])\n",
    "hist_df = hist_df.reset_index()"
   ]
  },
  {
   "cell_type": "code",
   "execution_count": null,
   "id": "776ce16c-2f5d-4983-9990-fc9291689ee5",
   "metadata": {},
   "outputs": [],
   "source": [
    "hist_df.head()"
   ]
  },
  {
   "cell_type": "code",
   "execution_count": null,
   "id": "59396a2c-f9cb-49b3-9e54-e1838264efa5",
   "metadata": {},
   "outputs": [],
   "source": [
    "hist_df.tail()"
   ]
  },
  {
   "cell_type": "code",
   "execution_count": null,
   "id": "7659c2a3-5977-4f57-ba04-5914914de260",
   "metadata": {},
   "outputs": [],
   "source": [
    "short_sma = 1\n",
    "long_sma = 200\n",
    "hist_df[\"Position\"] = sma.sma(hist_df[\"Close\"], short_sma, long_sma)\n",
    "hist_df.dropna(inplace=True)\n",
    "\n",
    "hist_df[\"Returns\"] = returns.log_returns(hist_df[\"Close\"])\n",
    "hist_df[\"Strategy\"] = returns.strategy_returns(hist_df[\"Position\"], hist_df[\"Returns\"])\n",
    "hist_df[\"Returns_Sum\"] = hist_df[\"Returns\"].cumsum().apply(np.exp)\n",
    "hist_df[\"Strategy_Sum\"] = hist_df[\"Strategy\"].cumsum().apply(np.exp)"
   ]
  },
  {
   "cell_type": "code",
   "execution_count": null,
   "id": "7072ed81-03ae-46cb-a5f6-1c03a1b47ec9",
   "metadata": {},
   "outputs": [],
   "source": [
    "hist_df.loc[:, [\"Returns\", \"Strategy\"]].sum().apply(np.exp)"
   ]
  },
  {
   "cell_type": "code",
   "execution_count": null,
   "id": "355d76a1-898f-452b-94f6-53f2e9d91d7b",
   "metadata": {},
   "outputs": [],
   "source": [
    "hist_df"
   ]
  },
  {
   "cell_type": "code",
   "execution_count": null,
   "id": "f4731e81-6e96-444a-882c-1576eefd7436",
   "metadata": {},
   "outputs": [],
   "source": [
    "plot_df = hist_df.loc[:, [\"Date\", \"Close\"]].melt(\"Date\", var_name=\"Type\", value_name=\"Price\")\n",
    "\n",
    "base = alt.Chart(plot_df).mark_line().encode(\n",
    "    x=\"Date:T\",\n",
    "    y=\"Price:Q\",\n",
    "    color=\"Type:N\"\n",
    ").interactive()\n",
    "\n",
    "base"
   ]
  },
  {
   "cell_type": "code",
   "execution_count": null,
   "id": "bb8cad5c-d43d-4980-abc2-c6a52a2a8502",
   "metadata": {},
   "outputs": [],
   "source": [
    "len(hist_df)"
   ]
  },
  {
   "cell_type": "code",
   "execution_count": null,
   "id": "79906801-538d-4b23-bb90-28e830b6fb59",
   "metadata": {},
   "outputs": [],
   "source": [
    "plot_df = hist_df.loc[:, [\"Date\", \"Position\", \"Returns_Sum\", \"Strategy_Sum\"]].melt(\"Date\", var_name=\"Type\", value_name=\"Returns\")\n",
    "\n",
    "base = alt.Chart(plot_df).mark_line().encode(\n",
    "    x=\"Date:T\",\n",
    "    y=\"Returns:Q\",\n",
    "    color=\"Type:N\"\n",
    ")\n",
    "\n",
    "base"
   ]
  }
 ],
 "metadata": {
  "kernelspec": {
   "display_name": "Python 3",
   "language": "python",
   "name": "python3"
  },
  "language_info": {
   "codemirror_mode": {
    "name": "ipython",
    "version": 3
   },
   "file_extension": ".py",
   "mimetype": "text/x-python",
   "name": "python",
   "nbconvert_exporter": "python",
   "pygments_lexer": "ipython3",
   "version": "3.9.4"
  }
 },
 "nbformat": 4,
 "nbformat_minor": 5
}
