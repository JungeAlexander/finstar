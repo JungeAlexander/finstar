{
 "cells": [
  {
   "cell_type": "markdown",
   "id": "a835a598-fc73-4855-ab17-bcfdd4877521",
   "metadata": {},
   "source": [
    "# Feature extraction from news headlines using NLP"
   ]
  },
  {
   "cell_type": "code",
   "execution_count": null,
   "id": "1f684d42-d552-4142-acd8-11eef1501c86",
   "metadata": {},
   "outputs": [],
   "source": [
    "import pandas as pd\n",
    "import spacy\n",
    "from spacy import displacy"
   ]
  },
  {
   "cell_type": "code",
   "execution_count": null,
   "id": "e2d90936-afa5-4d5c-9643-9431e1ae731f",
   "metadata": {},
   "outputs": [],
   "source": [
    "nlp = spacy.load(\"en_core_web_trf\")"
   ]
  },
  {
   "cell_type": "code",
   "execution_count": null,
   "id": "2ec25b2f-b201-473f-be92-253ccbd33da7",
   "metadata": {},
   "outputs": [],
   "source": [
    "finviz_df = pd.read_parquet(\"../../finstar-pipelines/data/sp500/news/finviz/Symbol=MRNA\")\n",
    "#finfinviz_df"
   ]
  },
  {
   "cell_type": "code",
   "execution_count": null,
   "id": "4a21fe57-942b-4a6b-89b2-d3602665b131",
   "metadata": {},
   "outputs": [],
   "source": [
    "newsapi_df = pd.read_parquet(\"../../finstar-pipelines/data/sp500/news/newsapi/Symbol=MRNA\")\n",
    "#newsapi_df"
   ]
  },
  {
   "cell_type": "code",
   "execution_count": null,
   "id": "d179bbdc-4c18-4c49-8436-da04b03a000b",
   "metadata": {},
   "outputs": [],
   "source": [
    "doc = nlp(finviz_df.Title[0])\n",
    "\n",
    "for ent in doc.ents:\n",
    "    print(ent.text, ent.start_char, ent.end_char, ent.label_)"
   ]
  },
  {
   "cell_type": "code",
   "execution_count": null,
   "id": "44ed1b7b-c7f3-4b1f-bee8-f68324b76e84",
   "metadata": {},
   "outputs": [],
   "source": [
    "displacy.render(doc, style=\"ent\")"
   ]
  }
 ],
 "metadata": {
  "kernelspec": {
   "display_name": "Python 3",
   "language": "python",
   "name": "python3"
  },
  "language_info": {
   "codemirror_mode": {
    "name": "ipython",
    "version": 3
   },
   "file_extension": ".py",
   "mimetype": "text/x-python",
   "name": "python",
   "nbconvert_exporter": "python",
   "pygments_lexer": "ipython3",
   "version": "3.9.4"
  }
 },
 "nbformat": 4,
 "nbformat_minor": 5
}
