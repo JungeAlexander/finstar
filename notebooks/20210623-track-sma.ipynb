{
 "cells": [
  {
   "cell_type": "code",
   "execution_count": null,
   "id": "70648732-d384-47a3-a78d-9753d2c2386c",
   "metadata": {},
   "outputs": [],
   "source": [
    "from mlflow import log_metric, log_param, log_artifacts\n",
    "import mlflow\n",
    "import numpy as np\n",
    "import pandas as pd\n",
    "\n",
    "import finstar.evaluation.returns as returns\n",
    "import finstar.strategies.sma as sma"
   ]
  },
  {
   "cell_type": "code",
   "execution_count": null,
   "id": "fd192303-88eb-4d28-823b-0267a29dfc59",
   "metadata": {},
   "outputs": [],
   "source": [
    "exp_name = \"20210623-sma-SP500-10yrs\"\n",
    "try:\n",
    "    exp_id = mlflow.create_experiment(exp_name)\n",
    "except mlflow.exceptions.MlflowException:\n",
    "    exp_id = mlflow.get_experiment_by_name(exp_name).experiment_id"
   ]
  },
  {
   "cell_type": "code",
   "execution_count": null,
   "id": "29cef093-aabc-4403-bc9c-9689474857bb",
   "metadata": {},
   "outputs": [],
   "source": [
    "df = pd.read_parquet(\"../data/interim/20210622-SP500-10yrs/20210622-SP500-10yrs.snappy.parquet\")\n",
    "\n",
    "# remove columns with missing data\n",
    "start_cols = df.shape[1]\n",
    "df = df.loc[:, df.isna().sum() == 0]\n",
    "end_cols = df.shape[1]\n",
    "print(f\"Before {start_cols}, then {end_cols} columns.\")\n",
    "\n",
    "with mlflow.start_run(experiment_id=exp_id):\n",
    "    short_sma = 3\n",
    "    long_sma = 200\n",
    "    log_param(\"short_sma\", short_sma)\n",
    "    log_param(\"long_sma\", long_sma)\n",
    "\n",
    "    def get_strategy_returns(close_prices):\n",
    "        pos = sma.sma(close_prices, short_sma, long_sma)\n",
    "        ret = returns.log_returns(close_prices)\n",
    "        strat = returns.strategy_returns(pos, ret)\n",
    "        return np.exp(strat.sum())\n",
    "\n",
    "    strat_returns = df.apply(get_strategy_returns, axis=0)\n",
    "    mean_returns = strat_returns.mean()\n",
    "    log_metric(\"mean_returns\", mean_returns)"
   ]
  }
 ],
 "metadata": {
  "kernelspec": {
   "display_name": "Python 3",
   "language": "python",
   "name": "python3"
  },
  "language_info": {
   "codemirror_mode": {
    "name": "ipython",
    "version": 3
   },
   "file_extension": ".py",
   "mimetype": "text/x-python",
   "name": "python",
   "nbconvert_exporter": "python",
   "pygments_lexer": "ipython3",
   "version": "3.9.4"
  }
 },
 "nbformat": 4,
 "nbformat_minor": 5
}
