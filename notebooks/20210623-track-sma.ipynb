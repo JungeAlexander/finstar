{
 "cells": [
  {
   "cell_type": "code",
   "execution_count": null,
   "id": "e9825921-fcad-4ab0-9101-e5c1decd7b98",
   "metadata": {},
   "outputs": [],
   "source": [
    "from mlflow import log_metric, log_param, log_artifacts\n",
    "import mlflow\n",
    "import numpy as np\n",
    "import pandas as pd\n",
    "\n",
    "import finstar.evaluation.returns as returns\n",
    "import finstar.strategies.sma as sma\n",
    "\n",
    "df = pd.read_parquet(\"../data/interim/20210622-SP500-10yrs/20210622-SP500-10yrs.snappy.parquet\")\n",
    "\n",
    "# remove columns with missing data\n",
    "start_cols = df.shape[1]\n",
    "df = df.loc[:, df.isna().sum() == 0]\n",
    "end_cols = df.shape[1]\n",
    "print(f\"Before {start_cols}, then {end_cols} columns.\")\n",
    "\n",
    "with mlflow.start_run():\n",
    "    short_sma = 1\n",
    "    long_sma = 200\n",
    "    log_param(\"short_sma\", short_sma)\n",
    "    log_param(\"long_sma\", long_sma)\n",
    "\n",
    "    def get_strategy_returns(close_prices):\n",
    "        pos = sma.sma(close_prices, short_sma, long_sma)\n",
    "        ret = returns.log_returns(close_prices)\n",
    "        strat = returns.strategy_returns(pos, ret)\n",
    "        return np.exp(strat.sum())\n",
    "\n",
    "    strat_returns = df.apply(get_strategy_returns, axis=0)\n",
    "    mean_returns = strat_returns.mean()\n",
    "    log_metric(\"mean_returns\", mean_returns)"
   ]
  }
 ],
 "metadata": {
  "kernelspec": {
   "display_name": "Python 3",
   "language": "python",
   "name": "python3"
  },
  "language_info": {
   "codemirror_mode": {
    "name": "ipython",
    "version": 3
   },
   "file_extension": ".py",
   "mimetype": "text/x-python",
   "name": "python",
   "nbconvert_exporter": "python",
   "pygments_lexer": "ipython3",
   "version": "3.9.4"
  }
 },
 "nbformat": 4,
 "nbformat_minor": 5
}
